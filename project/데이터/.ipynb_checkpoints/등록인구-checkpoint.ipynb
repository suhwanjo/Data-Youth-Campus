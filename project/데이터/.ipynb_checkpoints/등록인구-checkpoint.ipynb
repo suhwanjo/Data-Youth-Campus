{
 "cells": [
  {
   "cell_type": "code",
   "execution_count": 2,
   "id": "f61a2342",
   "metadata": {},
   "outputs": [],
   "source": [
    "import pandas as pd\n",
    "import csv\n",
    "import numpy as np\n",
    "import matplotlib.pyplot as plt\n"
   ]
  },
  {
   "cell_type": "code",
   "execution_count": 3,
   "id": "13ce449b",
   "metadata": {},
   "outputs": [
    {
     "ename": "FileNotFoundError",
     "evalue": "[Errno 2] No such file or directory: 'C:/Users/shjo/Desktop/등록인구.csv'",
     "output_type": "error",
     "traceback": [
      "\u001b[1;31m---------------------------------------------------------------------------\u001b[0m",
      "\u001b[1;31mFileNotFoundError\u001b[0m                         Traceback (most recent call last)",
      "Cell \u001b[1;32mIn[3], line 1\u001b[0m\n\u001b[1;32m----> 1\u001b[0m df \u001b[38;5;241m=\u001b[39m pd\u001b[38;5;241m.\u001b[39mread_csv(\u001b[38;5;124m'\u001b[39m\u001b[38;5;124mC:/Users/shjo/Desktop/등록인구.csv\u001b[39m\u001b[38;5;124m'\u001b[39m,quoting\u001b[38;5;241m=\u001b[39mcsv\u001b[38;5;241m.\u001b[39mQUOTE_NONE)\n\u001b[0;32m      2\u001b[0m df\n",
      "File \u001b[1;32m~\\anaconda3\\Lib\\site-packages\\pandas\\util\\_decorators.py:211\u001b[0m, in \u001b[0;36mdeprecate_kwarg.<locals>._deprecate_kwarg.<locals>.wrapper\u001b[1;34m(*args, **kwargs)\u001b[0m\n\u001b[0;32m    209\u001b[0m     \u001b[38;5;28;01melse\u001b[39;00m:\n\u001b[0;32m    210\u001b[0m         kwargs[new_arg_name] \u001b[38;5;241m=\u001b[39m new_arg_value\n\u001b[1;32m--> 211\u001b[0m \u001b[38;5;28;01mreturn\u001b[39;00m func(\u001b[38;5;241m*\u001b[39margs, \u001b[38;5;241m*\u001b[39m\u001b[38;5;241m*\u001b[39mkwargs)\n",
      "File \u001b[1;32m~\\anaconda3\\Lib\\site-packages\\pandas\\util\\_decorators.py:331\u001b[0m, in \u001b[0;36mdeprecate_nonkeyword_arguments.<locals>.decorate.<locals>.wrapper\u001b[1;34m(*args, **kwargs)\u001b[0m\n\u001b[0;32m    325\u001b[0m \u001b[38;5;28;01mif\u001b[39;00m \u001b[38;5;28mlen\u001b[39m(args) \u001b[38;5;241m>\u001b[39m num_allow_args:\n\u001b[0;32m    326\u001b[0m     warnings\u001b[38;5;241m.\u001b[39mwarn(\n\u001b[0;32m    327\u001b[0m         msg\u001b[38;5;241m.\u001b[39mformat(arguments\u001b[38;5;241m=\u001b[39m_format_argument_list(allow_args)),\n\u001b[0;32m    328\u001b[0m         \u001b[38;5;167;01mFutureWarning\u001b[39;00m,\n\u001b[0;32m    329\u001b[0m         stacklevel\u001b[38;5;241m=\u001b[39mfind_stack_level(),\n\u001b[0;32m    330\u001b[0m     )\n\u001b[1;32m--> 331\u001b[0m \u001b[38;5;28;01mreturn\u001b[39;00m func(\u001b[38;5;241m*\u001b[39margs, \u001b[38;5;241m*\u001b[39m\u001b[38;5;241m*\u001b[39mkwargs)\n",
      "File \u001b[1;32m~\\anaconda3\\Lib\\site-packages\\pandas\\io\\parsers\\readers.py:950\u001b[0m, in \u001b[0;36mread_csv\u001b[1;34m(filepath_or_buffer, sep, delimiter, header, names, index_col, usecols, squeeze, prefix, mangle_dupe_cols, dtype, engine, converters, true_values, false_values, skipinitialspace, skiprows, skipfooter, nrows, na_values, keep_default_na, na_filter, verbose, skip_blank_lines, parse_dates, infer_datetime_format, keep_date_col, date_parser, dayfirst, cache_dates, iterator, chunksize, compression, thousands, decimal, lineterminator, quotechar, quoting, doublequote, escapechar, comment, encoding, encoding_errors, dialect, error_bad_lines, warn_bad_lines, on_bad_lines, delim_whitespace, low_memory, memory_map, float_precision, storage_options)\u001b[0m\n\u001b[0;32m    935\u001b[0m kwds_defaults \u001b[38;5;241m=\u001b[39m _refine_defaults_read(\n\u001b[0;32m    936\u001b[0m     dialect,\n\u001b[0;32m    937\u001b[0m     delimiter,\n\u001b[1;32m   (...)\u001b[0m\n\u001b[0;32m    946\u001b[0m     defaults\u001b[38;5;241m=\u001b[39m{\u001b[38;5;124m\"\u001b[39m\u001b[38;5;124mdelimiter\u001b[39m\u001b[38;5;124m\"\u001b[39m: \u001b[38;5;124m\"\u001b[39m\u001b[38;5;124m,\u001b[39m\u001b[38;5;124m\"\u001b[39m},\n\u001b[0;32m    947\u001b[0m )\n\u001b[0;32m    948\u001b[0m kwds\u001b[38;5;241m.\u001b[39mupdate(kwds_defaults)\n\u001b[1;32m--> 950\u001b[0m \u001b[38;5;28;01mreturn\u001b[39;00m _read(filepath_or_buffer, kwds)\n",
      "File \u001b[1;32m~\\anaconda3\\Lib\\site-packages\\pandas\\io\\parsers\\readers.py:605\u001b[0m, in \u001b[0;36m_read\u001b[1;34m(filepath_or_buffer, kwds)\u001b[0m\n\u001b[0;32m    602\u001b[0m _validate_names(kwds\u001b[38;5;241m.\u001b[39mget(\u001b[38;5;124m\"\u001b[39m\u001b[38;5;124mnames\u001b[39m\u001b[38;5;124m\"\u001b[39m, \u001b[38;5;28;01mNone\u001b[39;00m))\n\u001b[0;32m    604\u001b[0m \u001b[38;5;66;03m# Create the parser.\u001b[39;00m\n\u001b[1;32m--> 605\u001b[0m parser \u001b[38;5;241m=\u001b[39m TextFileReader(filepath_or_buffer, \u001b[38;5;241m*\u001b[39m\u001b[38;5;241m*\u001b[39mkwds)\n\u001b[0;32m    607\u001b[0m \u001b[38;5;28;01mif\u001b[39;00m chunksize \u001b[38;5;129;01mor\u001b[39;00m iterator:\n\u001b[0;32m    608\u001b[0m     \u001b[38;5;28;01mreturn\u001b[39;00m parser\n",
      "File \u001b[1;32m~\\anaconda3\\Lib\\site-packages\\pandas\\io\\parsers\\readers.py:1442\u001b[0m, in \u001b[0;36mTextFileReader.__init__\u001b[1;34m(self, f, engine, **kwds)\u001b[0m\n\u001b[0;32m   1439\u001b[0m     \u001b[38;5;28mself\u001b[39m\u001b[38;5;241m.\u001b[39moptions[\u001b[38;5;124m\"\u001b[39m\u001b[38;5;124mhas_index_names\u001b[39m\u001b[38;5;124m\"\u001b[39m] \u001b[38;5;241m=\u001b[39m kwds[\u001b[38;5;124m\"\u001b[39m\u001b[38;5;124mhas_index_names\u001b[39m\u001b[38;5;124m\"\u001b[39m]\n\u001b[0;32m   1441\u001b[0m \u001b[38;5;28mself\u001b[39m\u001b[38;5;241m.\u001b[39mhandles: IOHandles \u001b[38;5;241m|\u001b[39m \u001b[38;5;28;01mNone\u001b[39;00m \u001b[38;5;241m=\u001b[39m \u001b[38;5;28;01mNone\u001b[39;00m\n\u001b[1;32m-> 1442\u001b[0m \u001b[38;5;28mself\u001b[39m\u001b[38;5;241m.\u001b[39m_engine \u001b[38;5;241m=\u001b[39m \u001b[38;5;28mself\u001b[39m\u001b[38;5;241m.\u001b[39m_make_engine(f, \u001b[38;5;28mself\u001b[39m\u001b[38;5;241m.\u001b[39mengine)\n",
      "File \u001b[1;32m~\\anaconda3\\Lib\\site-packages\\pandas\\io\\parsers\\readers.py:1735\u001b[0m, in \u001b[0;36mTextFileReader._make_engine\u001b[1;34m(self, f, engine)\u001b[0m\n\u001b[0;32m   1733\u001b[0m     \u001b[38;5;28;01mif\u001b[39;00m \u001b[38;5;124m\"\u001b[39m\u001b[38;5;124mb\u001b[39m\u001b[38;5;124m\"\u001b[39m \u001b[38;5;129;01mnot\u001b[39;00m \u001b[38;5;129;01min\u001b[39;00m mode:\n\u001b[0;32m   1734\u001b[0m         mode \u001b[38;5;241m+\u001b[39m\u001b[38;5;241m=\u001b[39m \u001b[38;5;124m\"\u001b[39m\u001b[38;5;124mb\u001b[39m\u001b[38;5;124m\"\u001b[39m\n\u001b[1;32m-> 1735\u001b[0m \u001b[38;5;28mself\u001b[39m\u001b[38;5;241m.\u001b[39mhandles \u001b[38;5;241m=\u001b[39m get_handle(\n\u001b[0;32m   1736\u001b[0m     f,\n\u001b[0;32m   1737\u001b[0m     mode,\n\u001b[0;32m   1738\u001b[0m     encoding\u001b[38;5;241m=\u001b[39m\u001b[38;5;28mself\u001b[39m\u001b[38;5;241m.\u001b[39moptions\u001b[38;5;241m.\u001b[39mget(\u001b[38;5;124m\"\u001b[39m\u001b[38;5;124mencoding\u001b[39m\u001b[38;5;124m\"\u001b[39m, \u001b[38;5;28;01mNone\u001b[39;00m),\n\u001b[0;32m   1739\u001b[0m     compression\u001b[38;5;241m=\u001b[39m\u001b[38;5;28mself\u001b[39m\u001b[38;5;241m.\u001b[39moptions\u001b[38;5;241m.\u001b[39mget(\u001b[38;5;124m\"\u001b[39m\u001b[38;5;124mcompression\u001b[39m\u001b[38;5;124m\"\u001b[39m, \u001b[38;5;28;01mNone\u001b[39;00m),\n\u001b[0;32m   1740\u001b[0m     memory_map\u001b[38;5;241m=\u001b[39m\u001b[38;5;28mself\u001b[39m\u001b[38;5;241m.\u001b[39moptions\u001b[38;5;241m.\u001b[39mget(\u001b[38;5;124m\"\u001b[39m\u001b[38;5;124mmemory_map\u001b[39m\u001b[38;5;124m\"\u001b[39m, \u001b[38;5;28;01mFalse\u001b[39;00m),\n\u001b[0;32m   1741\u001b[0m     is_text\u001b[38;5;241m=\u001b[39mis_text,\n\u001b[0;32m   1742\u001b[0m     errors\u001b[38;5;241m=\u001b[39m\u001b[38;5;28mself\u001b[39m\u001b[38;5;241m.\u001b[39moptions\u001b[38;5;241m.\u001b[39mget(\u001b[38;5;124m\"\u001b[39m\u001b[38;5;124mencoding_errors\u001b[39m\u001b[38;5;124m\"\u001b[39m, \u001b[38;5;124m\"\u001b[39m\u001b[38;5;124mstrict\u001b[39m\u001b[38;5;124m\"\u001b[39m),\n\u001b[0;32m   1743\u001b[0m     storage_options\u001b[38;5;241m=\u001b[39m\u001b[38;5;28mself\u001b[39m\u001b[38;5;241m.\u001b[39moptions\u001b[38;5;241m.\u001b[39mget(\u001b[38;5;124m\"\u001b[39m\u001b[38;5;124mstorage_options\u001b[39m\u001b[38;5;124m\"\u001b[39m, \u001b[38;5;28;01mNone\u001b[39;00m),\n\u001b[0;32m   1744\u001b[0m )\n\u001b[0;32m   1745\u001b[0m \u001b[38;5;28;01massert\u001b[39;00m \u001b[38;5;28mself\u001b[39m\u001b[38;5;241m.\u001b[39mhandles \u001b[38;5;129;01mis\u001b[39;00m \u001b[38;5;129;01mnot\u001b[39;00m \u001b[38;5;28;01mNone\u001b[39;00m\n\u001b[0;32m   1746\u001b[0m f \u001b[38;5;241m=\u001b[39m \u001b[38;5;28mself\u001b[39m\u001b[38;5;241m.\u001b[39mhandles\u001b[38;5;241m.\u001b[39mhandle\n",
      "File \u001b[1;32m~\\anaconda3\\Lib\\site-packages\\pandas\\io\\common.py:856\u001b[0m, in \u001b[0;36mget_handle\u001b[1;34m(path_or_buf, mode, encoding, compression, memory_map, is_text, errors, storage_options)\u001b[0m\n\u001b[0;32m    851\u001b[0m \u001b[38;5;28;01melif\u001b[39;00m \u001b[38;5;28misinstance\u001b[39m(handle, \u001b[38;5;28mstr\u001b[39m):\n\u001b[0;32m    852\u001b[0m     \u001b[38;5;66;03m# Check whether the filename is to be opened in binary mode.\u001b[39;00m\n\u001b[0;32m    853\u001b[0m     \u001b[38;5;66;03m# Binary mode does not support 'encoding' and 'newline'.\u001b[39;00m\n\u001b[0;32m    854\u001b[0m     \u001b[38;5;28;01mif\u001b[39;00m ioargs\u001b[38;5;241m.\u001b[39mencoding \u001b[38;5;129;01mand\u001b[39;00m \u001b[38;5;124m\"\u001b[39m\u001b[38;5;124mb\u001b[39m\u001b[38;5;124m\"\u001b[39m \u001b[38;5;129;01mnot\u001b[39;00m \u001b[38;5;129;01min\u001b[39;00m ioargs\u001b[38;5;241m.\u001b[39mmode:\n\u001b[0;32m    855\u001b[0m         \u001b[38;5;66;03m# Encoding\u001b[39;00m\n\u001b[1;32m--> 856\u001b[0m         handle \u001b[38;5;241m=\u001b[39m \u001b[38;5;28mopen\u001b[39m(\n\u001b[0;32m    857\u001b[0m             handle,\n\u001b[0;32m    858\u001b[0m             ioargs\u001b[38;5;241m.\u001b[39mmode,\n\u001b[0;32m    859\u001b[0m             encoding\u001b[38;5;241m=\u001b[39mioargs\u001b[38;5;241m.\u001b[39mencoding,\n\u001b[0;32m    860\u001b[0m             errors\u001b[38;5;241m=\u001b[39merrors,\n\u001b[0;32m    861\u001b[0m             newline\u001b[38;5;241m=\u001b[39m\u001b[38;5;124m\"\u001b[39m\u001b[38;5;124m\"\u001b[39m,\n\u001b[0;32m    862\u001b[0m         )\n\u001b[0;32m    863\u001b[0m     \u001b[38;5;28;01melse\u001b[39;00m:\n\u001b[0;32m    864\u001b[0m         \u001b[38;5;66;03m# Binary mode\u001b[39;00m\n\u001b[0;32m    865\u001b[0m         handle \u001b[38;5;241m=\u001b[39m \u001b[38;5;28mopen\u001b[39m(handle, ioargs\u001b[38;5;241m.\u001b[39mmode)\n",
      "\u001b[1;31mFileNotFoundError\u001b[0m: [Errno 2] No such file or directory: 'C:/Users/shjo/Desktop/등록인구.csv'"
     ]
    }
   ],
   "source": [
    "df = pd.read_csv('C:/Users/shjo/Desktop/등록인구.csv',quoting=csv.QUOTE_NONE)\n",
    "df # 2023년"
   ]
  },
  {
   "cell_type": "code",
   "execution_count": 10,
   "id": "2c926a81",
   "metadata": {},
   "outputs": [],
   "source": [
    "df = df.drop(columns=['Unnamed: 5','\"단위\"'])\n",
    "# 이런 방법이\n",
    "df = df.applymap(lambda x: x.strip('\"\"'))"
   ]
  },
  {
   "cell_type": "code",
   "execution_count": 11,
   "id": "7b1b0dda",
   "metadata": {},
   "outputs": [
    {
     "data": {
      "text/html": [
       "<div>\n",
       "<style scoped>\n",
       "    .dataframe tbody tr th:only-of-type {\n",
       "        vertical-align: middle;\n",
       "    }\n",
       "\n",
       "    .dataframe tbody tr th {\n",
       "        vertical-align: top;\n",
       "    }\n",
       "\n",
       "    .dataframe thead th {\n",
       "        text-align: right;\n",
       "    }\n",
       "</style>\n",
       "<table border=\"1\" class=\"dataframe\">\n",
       "  <thead>\n",
       "    <tr style=\"text-align: right;\">\n",
       "      <th></th>\n",
       "      <th>\"동별\"</th>\n",
       "      <th>\"연령별\"</th>\n",
       "      <th>\"항목\"</th>\n",
       "      <th>\"2023. 1/4\"</th>\n",
       "    </tr>\n",
       "  </thead>\n",
       "  <tbody>\n",
       "    <tr>\n",
       "      <th>0</th>\n",
       "      <td>사직동</td>\n",
       "      <td>계</td>\n",
       "      <td>계</td>\n",
       "      <td>9371</td>\n",
       "    </tr>\n",
       "    <tr>\n",
       "      <th>1</th>\n",
       "      <td>사직동</td>\n",
       "      <td>계</td>\n",
       "      <td>한국인</td>\n",
       "      <td>9106</td>\n",
       "    </tr>\n",
       "    <tr>\n",
       "      <th>2</th>\n",
       "      <td>사직동</td>\n",
       "      <td>계</td>\n",
       "      <td>외국인</td>\n",
       "      <td>265</td>\n",
       "    </tr>\n",
       "    <tr>\n",
       "      <th>3</th>\n",
       "      <td>사직동</td>\n",
       "      <td>0~4세</td>\n",
       "      <td>계</td>\n",
       "      <td>182</td>\n",
       "    </tr>\n",
       "    <tr>\n",
       "      <th>4</th>\n",
       "      <td>사직동</td>\n",
       "      <td>0~4세</td>\n",
       "      <td>한국인</td>\n",
       "      <td>177</td>\n",
       "    </tr>\n",
       "    <tr>\n",
       "      <th>...</th>\n",
       "      <td>...</td>\n",
       "      <td>...</td>\n",
       "      <td>...</td>\n",
       "      <td>...</td>\n",
       "    </tr>\n",
       "    <tr>\n",
       "      <th>28111</th>\n",
       "      <td>상일2동</td>\n",
       "      <td>95~99세</td>\n",
       "      <td>한국인</td>\n",
       "      <td>13</td>\n",
       "    </tr>\n",
       "    <tr>\n",
       "      <th>28112</th>\n",
       "      <td>상일2동</td>\n",
       "      <td>95~99세</td>\n",
       "      <td>외국인</td>\n",
       "      <td>0</td>\n",
       "    </tr>\n",
       "    <tr>\n",
       "      <th>28113</th>\n",
       "      <td>상일2동</td>\n",
       "      <td>100세 이상</td>\n",
       "      <td>계</td>\n",
       "      <td>3</td>\n",
       "    </tr>\n",
       "    <tr>\n",
       "      <th>28114</th>\n",
       "      <td>상일2동</td>\n",
       "      <td>100세 이상</td>\n",
       "      <td>한국인</td>\n",
       "      <td>3</td>\n",
       "    </tr>\n",
       "    <tr>\n",
       "      <th>28115</th>\n",
       "      <td>상일2동</td>\n",
       "      <td>100세 이상</td>\n",
       "      <td>외국인</td>\n",
       "      <td>0</td>\n",
       "    </tr>\n",
       "  </tbody>\n",
       "</table>\n",
       "<p>28116 rows × 4 columns</p>\n",
       "</div>"
      ],
      "text/plain": [
       "       \"동별\"    \"연령별\" \"항목\" \"2023. 1/4\"\n",
       "0       사직동        계    계        9371\n",
       "1       사직동        계  한국인        9106\n",
       "2       사직동        계  외국인         265\n",
       "3       사직동     0~4세    계         182\n",
       "4       사직동     0~4세  한국인         177\n",
       "...     ...      ...  ...         ...\n",
       "28111  상일2동   95~99세  한국인          13\n",
       "28112  상일2동   95~99세  외국인           0\n",
       "28113  상일2동  100세 이상    계           3\n",
       "28114  상일2동  100세 이상  한국인           3\n",
       "28115  상일2동  100세 이상  외국인           0\n",
       "\n",
       "[28116 rows x 4 columns]"
      ]
     },
     "execution_count": 11,
     "metadata": {},
     "output_type": "execute_result"
    }
   ],
   "source": [
    "df"
   ]
  },
  {
   "cell_type": "code",
   "execution_count": 13,
   "id": "a34b20e5",
   "metadata": {},
   "outputs": [
    {
     "data": {
      "text/plain": [
       "425"
      ]
     },
     "execution_count": 13,
     "metadata": {},
     "output_type": "execute_result"
    }
   ],
   "source": [
    "len(df['\"동별\"'].unique())"
   ]
  },
  {
   "cell_type": "code",
   "execution_count": 14,
   "id": "9a6b747e",
   "metadata": {},
   "outputs": [
    {
     "data": {
      "text/html": [
       "<div>\n",
       "<style scoped>\n",
       "    .dataframe tbody tr th:only-of-type {\n",
       "        vertical-align: middle;\n",
       "    }\n",
       "\n",
       "    .dataframe tbody tr th {\n",
       "        vertical-align: top;\n",
       "    }\n",
       "\n",
       "    .dataframe thead th {\n",
       "        text-align: right;\n",
       "    }\n",
       "</style>\n",
       "<table border=\"1\" class=\"dataframe\">\n",
       "  <thead>\n",
       "    <tr style=\"text-align: right;\">\n",
       "      <th></th>\n",
       "      <th>ADSTRD_CD_x</th>\n",
       "      <th>ADSTRD_NM</th>\n",
       "      <th>ADSTRD_CD_y</th>\n",
       "    </tr>\n",
       "  </thead>\n",
       "  <tbody>\n",
       "    <tr>\n",
       "      <th>0</th>\n",
       "      <td>1101053</td>\n",
       "      <td>사직동</td>\n",
       "      <td>11110530</td>\n",
       "    </tr>\n",
       "    <tr>\n",
       "      <th>1</th>\n",
       "      <td>1101054</td>\n",
       "      <td>삼청동</td>\n",
       "      <td>11110540</td>\n",
       "    </tr>\n",
       "    <tr>\n",
       "      <th>2</th>\n",
       "      <td>1101055</td>\n",
       "      <td>부암동</td>\n",
       "      <td>11110550</td>\n",
       "    </tr>\n",
       "    <tr>\n",
       "      <th>3</th>\n",
       "      <td>1101056</td>\n",
       "      <td>평창동</td>\n",
       "      <td>11110560</td>\n",
       "    </tr>\n",
       "    <tr>\n",
       "      <th>4</th>\n",
       "      <td>1101057</td>\n",
       "      <td>무악동</td>\n",
       "      <td>11110570</td>\n",
       "    </tr>\n",
       "    <tr>\n",
       "      <th>...</th>\n",
       "      <td>...</td>\n",
       "      <td>...</td>\n",
       "      <td>...</td>\n",
       "    </tr>\n",
       "    <tr>\n",
       "      <th>418</th>\n",
       "      <td>1125070</td>\n",
       "      <td>둔촌1동</td>\n",
       "      <td>11740690</td>\n",
       "    </tr>\n",
       "    <tr>\n",
       "      <th>419</th>\n",
       "      <td>1125071</td>\n",
       "      <td>둔촌2동</td>\n",
       "      <td>11740700</td>\n",
       "    </tr>\n",
       "    <tr>\n",
       "      <th>420</th>\n",
       "      <td>1125072</td>\n",
       "      <td>암사1동</td>\n",
       "      <td>11740570</td>\n",
       "    </tr>\n",
       "    <tr>\n",
       "      <th>421</th>\n",
       "      <td>1125073</td>\n",
       "      <td>천호2동</td>\n",
       "      <td>11740610</td>\n",
       "    </tr>\n",
       "    <tr>\n",
       "      <th>422</th>\n",
       "      <td>1125074</td>\n",
       "      <td>길동</td>\n",
       "      <td>11740685</td>\n",
       "    </tr>\n",
       "  </tbody>\n",
       "</table>\n",
       "<p>423 rows × 3 columns</p>\n",
       "</div>"
      ],
      "text/plain": [
       "     ADSTRD_CD_x ADSTRD_NM  ADSTRD_CD_y\n",
       "0        1101053       사직동     11110530\n",
       "1        1101054       삼청동     11110540\n",
       "2        1101055       부암동     11110550\n",
       "3        1101056       평창동     11110560\n",
       "4        1101057       무악동     11110570\n",
       "..           ...       ...          ...\n",
       "418      1125070      둔촌1동     11740690\n",
       "419      1125071      둔촌2동     11740700\n",
       "420      1125072      암사1동     11740570\n",
       "421      1125073      천호2동     11740610\n",
       "422      1125074        길동     11740685\n",
       "\n",
       "[423 rows x 3 columns]"
      ]
     },
     "execution_count": 14,
     "metadata": {},
     "output_type": "execute_result"
    }
   ],
   "source": [
    "# 행정동 5개 제거\n",
    "dong = pd.read_csv('C:/Users/shjo/Desktop/찐찐행정동420.csv')\n",
    "dong"
   ]
  },
  {
   "cell_type": "code",
   "execution_count": 15,
   "id": "7bba62ca",
   "metadata": {},
   "outputs": [
    {
     "data": {
      "text/plain": [
       "{'개포3동',\n",
       " '금호2.3가동',\n",
       " '면목3.8동',\n",
       " '상계3.4동',\n",
       " '상계6.7동',\n",
       " '상일1동',\n",
       " '상일2동',\n",
       " '위례동',\n",
       " '종로1.2.3.4가동',\n",
       " '종로5.6가동',\n",
       " '중계2.3동',\n",
       " '항동'}"
      ]
     },
     "execution_count": 15,
     "metadata": {},
     "output_type": "execute_result"
    }
   ],
   "source": [
    "# 행정동명 유니크 값을 set으로 만들어서 ^로 겹치지 않는 동만 추출\n",
    "a = set(df['\"동별\"'].unique())\n",
    "b = set(dong['ADSTRD_NM'].unique())\n",
    "\n",
    "a-b\n",
    "# 개포3동, 상일1,2동, 위례동, 항동 제거"
   ]
  },
  {
   "cell_type": "code",
   "execution_count": 16,
   "id": "38d89cd2",
   "metadata": {},
   "outputs": [
    {
     "data": {
      "text/plain": [
       "{'금호2·3가동', '면목3·8동', '상계3·4동', '상계6·7동', '종로1·2·3·4가동', '종로5·6가동', '중계2·3동'}"
      ]
     },
     "execution_count": 16,
     "metadata": {},
     "output_type": "execute_result"
    }
   ],
   "source": [
    "b-a"
   ]
  },
  {
   "cell_type": "code",
   "execution_count": 20,
   "id": "2d358d2d",
   "metadata": {},
   "outputs": [],
   "source": [
    "only_df_dongs = ['개포3동', '상일1동','상일2동', '위례동', '항동']\n",
    "\n",
    "# 주어진 행정동명을 포함하지 않은 행 추출\n",
    "df = df[~df['\"동별\"'].isin(only_df_dongs)]"
   ]
  },
  {
   "cell_type": "code",
   "execution_count": 23,
   "id": "948ab43d",
   "metadata": {},
   "outputs": [
    {
     "data": {
      "text/plain": [
       "420"
      ]
     },
     "execution_count": 23,
     "metadata": {},
     "output_type": "execute_result"
    }
   ],
   "source": [
    "len(df['\"동별\"'].unique())"
   ]
  },
  {
   "cell_type": "code",
   "execution_count": 15,
   "id": "9ae7ef6e",
   "metadata": {},
   "outputs": [
    {
     "data": {
      "text/plain": [
       "\"동별\"           0\n",
       "\"연령별\"          0\n",
       "\"항목\"           0\n",
       "\"2023. 1/4\"    0\n",
       "dtype: int64"
      ]
     },
     "execution_count": 15,
     "metadata": {},
     "output_type": "execute_result"
    }
   ],
   "source": [
    "df.isnull().sum()"
   ]
  },
  {
   "cell_type": "code",
   "execution_count": 16,
   "id": "f2a76399",
   "metadata": {},
   "outputs": [
    {
     "name": "stdout",
     "output_type": "stream",
     "text": [
      "<class 'pandas.core.frame.DataFrame'>\n",
      "RangeIndex: 27786 entries, 0 to 27785\n",
      "Data columns (total 4 columns):\n",
      " #   Column       Non-Null Count  Dtype \n",
      "---  ------       --------------  ----- \n",
      " 0   \"동별\"         27786 non-null  object\n",
      " 1   \"연령별\"        27786 non-null  object\n",
      " 2   \"항목\"         27786 non-null  object\n",
      " 3   \"2023. 1/4\"  27786 non-null  int64 \n",
      "dtypes: int64(1), object(3)\n",
      "memory usage: 868.4+ KB\n"
     ]
    }
   ],
   "source": [
    "df.info()"
   ]
  },
  {
   "cell_type": "code",
   "execution_count": 20,
   "id": "5031ddde",
   "metadata": {},
   "outputs": [
    {
     "data": {
      "image/png": "[encoded data removed]",
      "text/plain": [
       "<Figure size 800x600 with 1 Axes>"
      ]
     },
     "metadata": {},
     "output_type": "display_data"
    }
   ],
   "source": [
    "# 모든 int64 데이터 열에 대한 박스 플롯 시각화\n",
    "for column in df.select_dtypes(include=['int64']):\n",
    "    plt.figure(figsize=(8, 6))\n",
    "    plt.boxplot(df[column])\n",
    "    plt.title(f'Box Plot of {column}')\n",
    "    plt.ylabel(column)\n",
    "    plt.show()"
   ]
  },
  {
   "cell_type": "code",
   "execution_count": 24,
   "id": "8692b16a",
   "metadata": {},
   "outputs": [],
   "source": [
    "df.to_csv('C:/Users/shjo/Desktop/등록인구연령대.csv',index=False)"
   ]
  },
  {
   "cell_type": "markdown",
   "id": "b191b35b",
   "metadata": {},
   "source": [
    "# 신사동 분리"
   ]
  },
  {
   "cell_type": "code",
   "execution_count": 5,
   "id": "7055197d",
   "metadata": {},
   "outputs": [
    {
     "data": {
      "text/html": [
       "<div>\n",
       "<style scoped>\n",
       "    .dataframe tbody tr th:only-of-type {\n",
       "        vertical-align: middle;\n",
       "    }\n",
       "\n",
       "    .dataframe tbody tr th {\n",
       "        vertical-align: top;\n",
       "    }\n",
       "\n",
       "    .dataframe thead th {\n",
       "        text-align: right;\n",
       "    }\n",
       "</style>\n",
       "<table border=\"1\" class=\"dataframe\">\n",
       "  <thead>\n",
       "    <tr style=\"text-align: right;\">\n",
       "      <th></th>\n",
       "      <th>\"동별\"</th>\n",
       "      <th>\"연령별\"</th>\n",
       "      <th>\"항목\"</th>\n",
       "      <th>\"2023. 1/4\"</th>\n",
       "    </tr>\n",
       "  </thead>\n",
       "  <tbody>\n",
       "    <tr>\n",
       "      <th>0</th>\n",
       "      <td>사직동</td>\n",
       "      <td>계</td>\n",
       "      <td>계</td>\n",
       "      <td>9371</td>\n",
       "    </tr>\n",
       "    <tr>\n",
       "      <th>1</th>\n",
       "      <td>사직동</td>\n",
       "      <td>계</td>\n",
       "      <td>한국인</td>\n",
       "      <td>9106</td>\n",
       "    </tr>\n",
       "    <tr>\n",
       "      <th>2</th>\n",
       "      <td>사직동</td>\n",
       "      <td>계</td>\n",
       "      <td>외국인</td>\n",
       "      <td>265</td>\n",
       "    </tr>\n",
       "    <tr>\n",
       "      <th>3</th>\n",
       "      <td>사직동</td>\n",
       "      <td>0~4세</td>\n",
       "      <td>계</td>\n",
       "      <td>182</td>\n",
       "    </tr>\n",
       "    <tr>\n",
       "      <th>4</th>\n",
       "      <td>사직동</td>\n",
       "      <td>0~4세</td>\n",
       "      <td>한국인</td>\n",
       "      <td>177</td>\n",
       "    </tr>\n",
       "    <tr>\n",
       "      <th>...</th>\n",
       "      <td>...</td>\n",
       "      <td>...</td>\n",
       "      <td>...</td>\n",
       "      <td>...</td>\n",
       "    </tr>\n",
       "    <tr>\n",
       "      <th>27781</th>\n",
       "      <td>길동</td>\n",
       "      <td>95~99세</td>\n",
       "      <td>한국인</td>\n",
       "      <td>29</td>\n",
       "    </tr>\n",
       "    <tr>\n",
       "      <th>27782</th>\n",
       "      <td>길동</td>\n",
       "      <td>95~99세</td>\n",
       "      <td>외국인</td>\n",
       "      <td>0</td>\n",
       "    </tr>\n",
       "    <tr>\n",
       "      <th>27783</th>\n",
       "      <td>길동</td>\n",
       "      <td>100세 이상</td>\n",
       "      <td>계</td>\n",
       "      <td>9</td>\n",
       "    </tr>\n",
       "    <tr>\n",
       "      <th>27784</th>\n",
       "      <td>길동</td>\n",
       "      <td>100세 이상</td>\n",
       "      <td>한국인</td>\n",
       "      <td>9</td>\n",
       "    </tr>\n",
       "    <tr>\n",
       "      <th>27785</th>\n",
       "      <td>길동</td>\n",
       "      <td>100세 이상</td>\n",
       "      <td>외국인</td>\n",
       "      <td>0</td>\n",
       "    </tr>\n",
       "  </tbody>\n",
       "</table>\n",
       "<p>27786 rows × 4 columns</p>\n",
       "</div>"
      ],
      "text/plain": [
       "      \"동별\"    \"연령별\" \"항목\"  \"2023. 1/4\"\n",
       "0      사직동        계    계         9371\n",
       "1      사직동        계  한국인         9106\n",
       "2      사직동        계  외국인          265\n",
       "3      사직동     0~4세    계          182\n",
       "4      사직동     0~4세  한국인          177\n",
       "...    ...      ...  ...          ...\n",
       "27781   길동   95~99세  한국인           29\n",
       "27782   길동   95~99세  외국인            0\n",
       "27783   길동  100세 이상    계            9\n",
       "27784   길동  100세 이상  한국인            9\n",
       "27785   길동  100세 이상  외국인            0\n",
       "\n",
       "[27786 rows x 4 columns]"
      ]
     },
     "execution_count": 5,
     "metadata": {},
     "output_type": "execute_result"
    }
   ],
   "source": [
    "df = pd.read_csv('등록인구연령대.csv')\n",
    "df"
   ]
  },
  {
   "cell_type": "code",
   "execution_count": 8,
   "id": "fca0ac96",
   "metadata": {},
   "outputs": [
    {
     "data": {
      "text/plain": [
       "421"
      ]
     },
     "execution_count": 8,
     "metadata": {},
     "output_type": "execute_result"
    }
   ],
   "source": [
    "len(df['\"동별\"'].unique())"
   ]
  },
  {
   "cell_type": "code",
   "execution_count": 9,
   "id": "d18e4a3d",
   "metadata": {},
   "outputs": [
    {
     "data": {
      "text/html": [
       "<div>\n",
       "<style scoped>\n",
       "    .dataframe tbody tr th:only-of-type {\n",
       "        vertical-align: middle;\n",
       "    }\n",
       "\n",
       "    .dataframe tbody tr th {\n",
       "        vertical-align: top;\n",
       "    }\n",
       "\n",
       "    .dataframe thead th {\n",
       "        text-align: right;\n",
       "    }\n",
       "</style>\n",
       "<table border=\"1\" class=\"dataframe\">\n",
       "  <thead>\n",
       "    <tr style=\"text-align: right;\">\n",
       "      <th></th>\n",
       "      <th>ADSTRD_CD_x</th>\n",
       "      <th>ADSTRD_NM</th>\n",
       "      <th>ADSTRD_CD_y</th>\n",
       "    </tr>\n",
       "  </thead>\n",
       "  <tbody>\n",
       "    <tr>\n",
       "      <th>0</th>\n",
       "      <td>1101053</td>\n",
       "      <td>사직동</td>\n",
       "      <td>11110530</td>\n",
       "    </tr>\n",
       "    <tr>\n",
       "      <th>1</th>\n",
       "      <td>1101054</td>\n",
       "      <td>삼청동</td>\n",
       "      <td>11110540</td>\n",
       "    </tr>\n",
       "    <tr>\n",
       "      <th>2</th>\n",
       "      <td>1101055</td>\n",
       "      <td>부암동</td>\n",
       "      <td>11110550</td>\n",
       "    </tr>\n",
       "    <tr>\n",
       "      <th>3</th>\n",
       "      <td>1101056</td>\n",
       "      <td>평창동</td>\n",
       "      <td>11110560</td>\n",
       "    </tr>\n",
       "    <tr>\n",
       "      <th>4</th>\n",
       "      <td>1101057</td>\n",
       "      <td>무악동</td>\n",
       "      <td>11110570</td>\n",
       "    </tr>\n",
       "    <tr>\n",
       "      <th>...</th>\n",
       "      <td>...</td>\n",
       "      <td>...</td>\n",
       "      <td>...</td>\n",
       "    </tr>\n",
       "    <tr>\n",
       "      <th>416</th>\n",
       "      <td>1125070</td>\n",
       "      <td>둔촌1동</td>\n",
       "      <td>11740690</td>\n",
       "    </tr>\n",
       "    <tr>\n",
       "      <th>417</th>\n",
       "      <td>1125071</td>\n",
       "      <td>둔촌2동</td>\n",
       "      <td>11740700</td>\n",
       "    </tr>\n",
       "    <tr>\n",
       "      <th>418</th>\n",
       "      <td>1125072</td>\n",
       "      <td>암사1동</td>\n",
       "      <td>11740570</td>\n",
       "    </tr>\n",
       "    <tr>\n",
       "      <th>419</th>\n",
       "      <td>1125073</td>\n",
       "      <td>천호2동</td>\n",
       "      <td>11740610</td>\n",
       "    </tr>\n",
       "    <tr>\n",
       "      <th>420</th>\n",
       "      <td>1125074</td>\n",
       "      <td>길동</td>\n",
       "      <td>11740685</td>\n",
       "    </tr>\n",
       "  </tbody>\n",
       "</table>\n",
       "<p>421 rows × 3 columns</p>\n",
       "</div>"
      ],
      "text/plain": [
       "     ADSTRD_CD_x ADSTRD_NM  ADSTRD_CD_y\n",
       "0        1101053       사직동     11110530\n",
       "1        1101054       삼청동     11110540\n",
       "2        1101055       부암동     11110550\n",
       "3        1101056       평창동     11110560\n",
       "4        1101057       무악동     11110570\n",
       "..           ...       ...          ...\n",
       "416      1125070      둔촌1동     11740690\n",
       "417      1125071      둔촌2동     11740700\n",
       "418      1125072      암사1동     11740570\n",
       "419      1125073      천호2동     11740610\n",
       "420      1125074        길동     11740685\n",
       "\n",
       "[421 rows x 3 columns]"
      ]
     },
     "execution_count": 9,
     "metadata": {},
     "output_type": "execute_result"
    }
   ],
   "source": [
    "dong = pd.read_csv('신사동분리버전행정동코드.csv')\n",
    "dong"
   ]
  },
  {
   "cell_type": "code",
   "execution_count": 18,
   "id": "0bd8510b",
   "metadata": {},
   "outputs": [
    {
     "data": {
      "text/plain": [
       "set()"
      ]
     },
     "execution_count": 18,
     "metadata": {},
     "output_type": "execute_result"
    }
   ],
   "source": [
    "a = set(df['\"동별\"'].unique())\n",
    "b = set(dong['ADSTRD_NM'].unique())\n",
    "b-a"
   ]
  },
  {
   "cell_type": "code",
   "execution_count": 14,
   "id": "3ee2d782",
   "metadata": {},
   "outputs": [],
   "source": [
    "dong_dic = {\n",
    "    '금호2.3가동':'금호2·3가동',\n",
    "    '면목3.8동':'면목3·8동',\n",
    "    '상계3.4동':'상계3·4동',\n",
    "    '상계6.7동':'상계6·7동',\n",
    "    '종로1.2.3.4가동':'종로1·2·3·4가동',\n",
    "    '종로5.6가동':'종로5·6가동',\n",
    "    '중계2.3동':'중계2·3동'\n",
    "}\n",
    "# Function to apply the mapping\n",
    "def apply_mapping(value):\n",
    "    if value in dong_dic:\n",
    "        return dong_dic[value]\n",
    "    return value\n",
    "df['\"동별\"'] = df['\"동별\"'].apply(apply_mapping)"
   ]
  },
  {
   "cell_type": "code",
   "execution_count": 15,
   "id": "198b8584",
   "metadata": {},
   "outputs": [
    {
     "data": {
      "text/html": [
       "<div>\n",
       "<style scoped>\n",
       "    .dataframe tbody tr th:only-of-type {\n",
       "        vertical-align: middle;\n",
       "    }\n",
       "\n",
       "    .dataframe tbody tr th {\n",
       "        vertical-align: top;\n",
       "    }\n",
       "\n",
       "    .dataframe thead th {\n",
       "        text-align: right;\n",
       "    }\n",
       "</style>\n",
       "<table border=\"1\" class=\"dataframe\">\n",
       "  <thead>\n",
       "    <tr style=\"text-align: right;\">\n",
       "      <th></th>\n",
       "      <th>\"동별\"</th>\n",
       "      <th>\"연령별\"</th>\n",
       "      <th>\"항목\"</th>\n",
       "      <th>\"2023. 1/4\"</th>\n",
       "      <th>ADSTRD_CD_x</th>\n",
       "      <th>ADSTRD_NM</th>\n",
       "      <th>ADSTRD_CD_y</th>\n",
       "    </tr>\n",
       "  </thead>\n",
       "  <tbody>\n",
       "    <tr>\n",
       "      <th>0</th>\n",
       "      <td>사직동</td>\n",
       "      <td>계</td>\n",
       "      <td>계</td>\n",
       "      <td>9371</td>\n",
       "      <td>1101053</td>\n",
       "      <td>사직동</td>\n",
       "      <td>11110530</td>\n",
       "    </tr>\n",
       "    <tr>\n",
       "      <th>1</th>\n",
       "      <td>사직동</td>\n",
       "      <td>계</td>\n",
       "      <td>한국인</td>\n",
       "      <td>9106</td>\n",
       "      <td>1101053</td>\n",
       "      <td>사직동</td>\n",
       "      <td>11110530</td>\n",
       "    </tr>\n",
       "    <tr>\n",
       "      <th>2</th>\n",
       "      <td>사직동</td>\n",
       "      <td>계</td>\n",
       "      <td>외국인</td>\n",
       "      <td>265</td>\n",
       "      <td>1101053</td>\n",
       "      <td>사직동</td>\n",
       "      <td>11110530</td>\n",
       "    </tr>\n",
       "    <tr>\n",
       "      <th>3</th>\n",
       "      <td>사직동</td>\n",
       "      <td>0~4세</td>\n",
       "      <td>계</td>\n",
       "      <td>182</td>\n",
       "      <td>1101053</td>\n",
       "      <td>사직동</td>\n",
       "      <td>11110530</td>\n",
       "    </tr>\n",
       "    <tr>\n",
       "      <th>4</th>\n",
       "      <td>사직동</td>\n",
       "      <td>0~4세</td>\n",
       "      <td>한국인</td>\n",
       "      <td>177</td>\n",
       "      <td>1101053</td>\n",
       "      <td>사직동</td>\n",
       "      <td>11110530</td>\n",
       "    </tr>\n",
       "    <tr>\n",
       "      <th>...</th>\n",
       "      <td>...</td>\n",
       "      <td>...</td>\n",
       "      <td>...</td>\n",
       "      <td>...</td>\n",
       "      <td>...</td>\n",
       "      <td>...</td>\n",
       "      <td>...</td>\n",
       "    </tr>\n",
       "    <tr>\n",
       "      <th>27781</th>\n",
       "      <td>길동</td>\n",
       "      <td>95~99세</td>\n",
       "      <td>한국인</td>\n",
       "      <td>29</td>\n",
       "      <td>1125074</td>\n",
       "      <td>길동</td>\n",
       "      <td>11740685</td>\n",
       "    </tr>\n",
       "    <tr>\n",
       "      <th>27782</th>\n",
       "      <td>길동</td>\n",
       "      <td>95~99세</td>\n",
       "      <td>외국인</td>\n",
       "      <td>0</td>\n",
       "      <td>1125074</td>\n",
       "      <td>길동</td>\n",
       "      <td>11740685</td>\n",
       "    </tr>\n",
       "    <tr>\n",
       "      <th>27783</th>\n",
       "      <td>길동</td>\n",
       "      <td>100세 이상</td>\n",
       "      <td>계</td>\n",
       "      <td>9</td>\n",
       "      <td>1125074</td>\n",
       "      <td>길동</td>\n",
       "      <td>11740685</td>\n",
       "    </tr>\n",
       "    <tr>\n",
       "      <th>27784</th>\n",
       "      <td>길동</td>\n",
       "      <td>100세 이상</td>\n",
       "      <td>한국인</td>\n",
       "      <td>9</td>\n",
       "      <td>1125074</td>\n",
       "      <td>길동</td>\n",
       "      <td>11740685</td>\n",
       "    </tr>\n",
       "    <tr>\n",
       "      <th>27785</th>\n",
       "      <td>길동</td>\n",
       "      <td>100세 이상</td>\n",
       "      <td>외국인</td>\n",
       "      <td>0</td>\n",
       "      <td>1125074</td>\n",
       "      <td>길동</td>\n",
       "      <td>11740685</td>\n",
       "    </tr>\n",
       "  </tbody>\n",
       "</table>\n",
       "<p>27786 rows × 7 columns</p>\n",
       "</div>"
      ],
      "text/plain": [
       "      \"동별\"    \"연령별\" \"항목\"  \"2023. 1/4\"  ADSTRD_CD_x ADSTRD_NM  ADSTRD_CD_y\n",
       "0      사직동        계    계         9371      1101053       사직동     11110530\n",
       "1      사직동        계  한국인         9106      1101053       사직동     11110530\n",
       "2      사직동        계  외국인          265      1101053       사직동     11110530\n",
       "3      사직동     0~4세    계          182      1101053       사직동     11110530\n",
       "4      사직동     0~4세  한국인          177      1101053       사직동     11110530\n",
       "...    ...      ...  ...          ...          ...       ...          ...\n",
       "27781   길동   95~99세  한국인           29      1125074        길동     11740685\n",
       "27782   길동   95~99세  외국인            0      1125074        길동     11740685\n",
       "27783   길동  100세 이상    계            9      1125074        길동     11740685\n",
       "27784   길동  100세 이상  한국인            9      1125074        길동     11740685\n",
       "27785   길동  100세 이상  외국인            0      1125074        길동     11740685\n",
       "\n",
       "[27786 rows x 7 columns]"
      ]
     },
     "execution_count": 15,
     "metadata": {},
     "output_type": "execute_result"
    }
   ],
   "source": [
    "df1 = pd.merge(df,dong,how='inner',left_on='\"동별\"',right_on='ADSTRD_NM')\n",
    "df1"
   ]
  },
  {
   "cell_type": "code",
   "execution_count": 16,
   "id": "5d5be6e5",
   "metadata": {},
   "outputs": [],
   "source": [
    "df1.to_csv('등록인구연령대.csv',index=False)"
   ]
  },
  {
   "cell_type": "code",
   "execution_count": null,
   "id": "7740a62d",
   "metadata": {},
   "outputs": [],
   "source": []
  }
 ],
 "metadata": {
  "kernelspec": {
   "display_name": "Python 3 (ipykernel)",
   "language": "python",
   "name": "python3"
  },
  "language_info": {
   "codemirror_mode": {
    "name": "ipython",
    "version": 3
   },
   "file_extension": ".py",
   "mimetype": "text/x-python",
   "name": "python",
   "nbconvert_exporter": "python",
   "pygments_lexer": "ipython3",
   "version": "3.11.3"
  }
 },
 "nbformat": 4,
 "nbformat_minor": 5
}
