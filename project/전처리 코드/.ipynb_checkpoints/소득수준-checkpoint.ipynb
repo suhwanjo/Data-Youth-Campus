{
 "cells": [
  {
   "cell_type": "code",
   "execution_count": 1,
   "id": "6c486019",
   "metadata": {},
   "outputs": [],
   "source": [
    "import pandas as pd\n",
    "import numpy as np"
   ]
  },
  {
   "cell_type": "markdown",
   "id": "4330fb9f",
   "metadata": {},
   "source": [
    "# \"\"제거 + 행정동 맞추기"
   ]
  },
  {
   "cell_type": "code",
   "execution_count": 2,
   "id": "a750a79b",
   "metadata": {},
   "outputs": [],
   "source": [
    "income = pd.read_csv(\"데이터/기타반출자료/B002. 서울시 행정동별 소득수준 통계/2. 파일데이터/서울시_빅캠_소득통계_2015.txt\",encoding='utf-8-sig',sep='|')"
   ]
  },
  {
   "cell_type": "code",
   "execution_count": 3,
   "id": "e6075815",
   "metadata": {},
   "outputs": [
    {
     "data": {
      "text/html": [
       "<div>\n",
       "<style scoped>\n",
       "    .dataframe tbody tr th:only-of-type {\n",
       "        vertical-align: middle;\n",
       "    }\n",
       "\n",
       "    .dataframe tbody tr th {\n",
       "        vertical-align: top;\n",
       "    }\n",
       "\n",
       "    .dataframe thead th {\n",
       "        text-align: right;\n",
       "    }\n",
       "</style>\n",
       "<table border=\"1\" class=\"dataframe\">\n",
       "  <thead>\n",
       "    <tr style=\"text-align: right;\">\n",
       "      <th></th>\n",
       "      <th>`행정동코드`</th>\n",
       "      <th>`구분`</th>\n",
       "      <th>`평균소득(만원)`</th>\n",
       "      <th>`소득금액구간`</th>\n",
       "      <th>`금액구간별인원수비중(%)`</th>\n",
       "      <th>`정보미제공구간해당여부(Y제공불가)`</th>\n",
       "    </tr>\n",
       "  </thead>\n",
       "  <tbody>\n",
       "    <tr>\n",
       "      <th>0</th>\n",
       "      <td>`11110515`</td>\n",
       "      <td>`전체`</td>\n",
       "      <td>`4344`</td>\n",
       "      <td>`2천만원미만`</td>\n",
       "      <td>`6`</td>\n",
       "      <td>`N`</td>\n",
       "    </tr>\n",
       "    <tr>\n",
       "      <th>1</th>\n",
       "      <td>`11110515`</td>\n",
       "      <td>`전체`</td>\n",
       "      <td>`4344`</td>\n",
       "      <td>`3천만원미만`</td>\n",
       "      <td>`18`</td>\n",
       "      <td>`N`</td>\n",
       "    </tr>\n",
       "    <tr>\n",
       "      <th>2</th>\n",
       "      <td>`11110515`</td>\n",
       "      <td>`전체`</td>\n",
       "      <td>`4344`</td>\n",
       "      <td>`4천만원미만`</td>\n",
       "      <td>`24`</td>\n",
       "      <td>`N`</td>\n",
       "    </tr>\n",
       "    <tr>\n",
       "      <th>3</th>\n",
       "      <td>`11110515`</td>\n",
       "      <td>`전체`</td>\n",
       "      <td>`4344`</td>\n",
       "      <td>`5천만원미만`</td>\n",
       "      <td>`23`</td>\n",
       "      <td>`N`</td>\n",
       "    </tr>\n",
       "    <tr>\n",
       "      <th>4</th>\n",
       "      <td>`11110515`</td>\n",
       "      <td>`전체`</td>\n",
       "      <td>`4344`</td>\n",
       "      <td>`5천만원이상`</td>\n",
       "      <td>`29`</td>\n",
       "      <td>`N`</td>\n",
       "    </tr>\n",
       "    <tr>\n",
       "      <th>...</th>\n",
       "      <td>...</td>\n",
       "      <td>...</td>\n",
       "      <td>...</td>\n",
       "      <td>...</td>\n",
       "      <td>...</td>\n",
       "      <td>...</td>\n",
       "    </tr>\n",
       "    <tr>\n",
       "      <th>16955</th>\n",
       "      <td>`11740700`</td>\n",
       "      <td>`60세이상`</td>\n",
       "      <td>`4129`</td>\n",
       "      <td>`2천만원미만`</td>\n",
       "      <td>`7`</td>\n",
       "      <td>`N`</td>\n",
       "    </tr>\n",
       "    <tr>\n",
       "      <th>16956</th>\n",
       "      <td>`11740700`</td>\n",
       "      <td>`60세이상`</td>\n",
       "      <td>`4129`</td>\n",
       "      <td>`3천만원미만`</td>\n",
       "      <td>`20`</td>\n",
       "      <td>`N`</td>\n",
       "    </tr>\n",
       "    <tr>\n",
       "      <th>16957</th>\n",
       "      <td>`11740700`</td>\n",
       "      <td>`60세이상`</td>\n",
       "      <td>`4129`</td>\n",
       "      <td>`4천만원미만`</td>\n",
       "      <td>`24`</td>\n",
       "      <td>`N`</td>\n",
       "    </tr>\n",
       "    <tr>\n",
       "      <th>16958</th>\n",
       "      <td>`11740700`</td>\n",
       "      <td>`60세이상`</td>\n",
       "      <td>`4129`</td>\n",
       "      <td>`5천만원미만`</td>\n",
       "      <td>`21`</td>\n",
       "      <td>`N`</td>\n",
       "    </tr>\n",
       "    <tr>\n",
       "      <th>16959</th>\n",
       "      <td>`11740700`</td>\n",
       "      <td>`60세이상`</td>\n",
       "      <td>`4129`</td>\n",
       "      <td>`5천만원이상`</td>\n",
       "      <td>`28`</td>\n",
       "      <td>`N`</td>\n",
       "    </tr>\n",
       "  </tbody>\n",
       "</table>\n",
       "<p>16960 rows × 6 columns</p>\n",
       "</div>"
      ],
      "text/plain": [
       "          `행정동코드`     `구분` `평균소득(만원)`  `소득금액구간` `금액구간별인원수비중(%)`  \\\n",
       "0      `11110515`     `전체`     `4344`  `2천만원미만`             `6`   \n",
       "1      `11110515`     `전체`     `4344`  `3천만원미만`            `18`   \n",
       "2      `11110515`     `전체`     `4344`  `4천만원미만`            `24`   \n",
       "3      `11110515`     `전체`     `4344`  `5천만원미만`            `23`   \n",
       "4      `11110515`     `전체`     `4344`  `5천만원이상`            `29`   \n",
       "...           ...      ...        ...       ...             ...   \n",
       "16955  `11740700`  `60세이상`     `4129`  `2천만원미만`             `7`   \n",
       "16956  `11740700`  `60세이상`     `4129`  `3천만원미만`            `20`   \n",
       "16957  `11740700`  `60세이상`     `4129`  `4천만원미만`            `24`   \n",
       "16958  `11740700`  `60세이상`     `4129`  `5천만원미만`            `21`   \n",
       "16959  `11740700`  `60세이상`     `4129`  `5천만원이상`            `28`   \n",
       "\n",
       "      `정보미제공구간해당여부(Y제공불가)`  \n",
       "0                      `N`  \n",
       "1                      `N`  \n",
       "2                      `N`  \n",
       "3                      `N`  \n",
       "4                      `N`  \n",
       "...                    ...  \n",
       "16955                  `N`  \n",
       "16956                  `N`  \n",
       "16957                  `N`  \n",
       "16958                  `N`  \n",
       "16959                  `N`  \n",
       "\n",
       "[16960 rows x 6 columns]"
      ]
     },
     "execution_count": 3,
     "metadata": {},
     "output_type": "execute_result"
    }
   ],
   "source": [
    "income"
   ]
  },
  {
   "cell_type": "code",
   "execution_count": 4,
   "id": "d3c44d77",
   "metadata": {},
   "outputs": [
    {
     "data": {
      "text/html": [
       "<div>\n",
       "<style scoped>\n",
       "    .dataframe tbody tr th:only-of-type {\n",
       "        vertical-align: middle;\n",
       "    }\n",
       "\n",
       "    .dataframe tbody tr th {\n",
       "        vertical-align: top;\n",
       "    }\n",
       "\n",
       "    .dataframe thead th {\n",
       "        text-align: right;\n",
       "    }\n",
       "</style>\n",
       "<table border=\"1\" class=\"dataframe\">\n",
       "  <thead>\n",
       "    <tr style=\"text-align: right;\">\n",
       "      <th></th>\n",
       "      <th>`행정동코드`</th>\n",
       "      <th>`구분`</th>\n",
       "      <th>`평균소득(만원)`</th>\n",
       "      <th>`소득금액구간`</th>\n",
       "      <th>`금액구간별인원수비중(%)`</th>\n",
       "      <th>`정보미제공구간해당여부(Y제공불가)`</th>\n",
       "    </tr>\n",
       "  </thead>\n",
       "  <tbody>\n",
       "    <tr>\n",
       "      <th>0</th>\n",
       "      <td>11110515</td>\n",
       "      <td>전체</td>\n",
       "      <td>4344</td>\n",
       "      <td>2천만원미만</td>\n",
       "      <td>6</td>\n",
       "      <td>N</td>\n",
       "    </tr>\n",
       "    <tr>\n",
       "      <th>1</th>\n",
       "      <td>11110515</td>\n",
       "      <td>전체</td>\n",
       "      <td>4344</td>\n",
       "      <td>3천만원미만</td>\n",
       "      <td>18</td>\n",
       "      <td>N</td>\n",
       "    </tr>\n",
       "    <tr>\n",
       "      <th>2</th>\n",
       "      <td>11110515</td>\n",
       "      <td>전체</td>\n",
       "      <td>4344</td>\n",
       "      <td>4천만원미만</td>\n",
       "      <td>24</td>\n",
       "      <td>N</td>\n",
       "    </tr>\n",
       "    <tr>\n",
       "      <th>3</th>\n",
       "      <td>11110515</td>\n",
       "      <td>전체</td>\n",
       "      <td>4344</td>\n",
       "      <td>5천만원미만</td>\n",
       "      <td>23</td>\n",
       "      <td>N</td>\n",
       "    </tr>\n",
       "    <tr>\n",
       "      <th>4</th>\n",
       "      <td>11110515</td>\n",
       "      <td>전체</td>\n",
       "      <td>4344</td>\n",
       "      <td>5천만원이상</td>\n",
       "      <td>29</td>\n",
       "      <td>N</td>\n",
       "    </tr>\n",
       "    <tr>\n",
       "      <th>...</th>\n",
       "      <td>...</td>\n",
       "      <td>...</td>\n",
       "      <td>...</td>\n",
       "      <td>...</td>\n",
       "      <td>...</td>\n",
       "      <td>...</td>\n",
       "    </tr>\n",
       "    <tr>\n",
       "      <th>16955</th>\n",
       "      <td>11740700</td>\n",
       "      <td>60세이상</td>\n",
       "      <td>4129</td>\n",
       "      <td>2천만원미만</td>\n",
       "      <td>7</td>\n",
       "      <td>N</td>\n",
       "    </tr>\n",
       "    <tr>\n",
       "      <th>16956</th>\n",
       "      <td>11740700</td>\n",
       "      <td>60세이상</td>\n",
       "      <td>4129</td>\n",
       "      <td>3천만원미만</td>\n",
       "      <td>20</td>\n",
       "      <td>N</td>\n",
       "    </tr>\n",
       "    <tr>\n",
       "      <th>16957</th>\n",
       "      <td>11740700</td>\n",
       "      <td>60세이상</td>\n",
       "      <td>4129</td>\n",
       "      <td>4천만원미만</td>\n",
       "      <td>24</td>\n",
       "      <td>N</td>\n",
       "    </tr>\n",
       "    <tr>\n",
       "      <th>16958</th>\n",
       "      <td>11740700</td>\n",
       "      <td>60세이상</td>\n",
       "      <td>4129</td>\n",
       "      <td>5천만원미만</td>\n",
       "      <td>21</td>\n",
       "      <td>N</td>\n",
       "    </tr>\n",
       "    <tr>\n",
       "      <th>16959</th>\n",
       "      <td>11740700</td>\n",
       "      <td>60세이상</td>\n",
       "      <td>4129</td>\n",
       "      <td>5천만원이상</td>\n",
       "      <td>28</td>\n",
       "      <td>N</td>\n",
       "    </tr>\n",
       "  </tbody>\n",
       "</table>\n",
       "<p>16960 rows × 6 columns</p>\n",
       "</div>"
      ],
      "text/plain": [
       "        `행정동코드`   `구분` `평균소득(만원)` `소득금액구간` `금액구간별인원수비중(%)`  \\\n",
       "0      11110515     전체       4344   2천만원미만               6   \n",
       "1      11110515     전체       4344   3천만원미만              18   \n",
       "2      11110515     전체       4344   4천만원미만              24   \n",
       "3      11110515     전체       4344   5천만원미만              23   \n",
       "4      11110515     전체       4344   5천만원이상              29   \n",
       "...         ...    ...        ...      ...             ...   \n",
       "16955  11740700  60세이상       4129   2천만원미만               7   \n",
       "16956  11740700  60세이상       4129   3천만원미만              20   \n",
       "16957  11740700  60세이상       4129   4천만원미만              24   \n",
       "16958  11740700  60세이상       4129   5천만원미만              21   \n",
       "16959  11740700  60세이상       4129   5천만원이상              28   \n",
       "\n",
       "      `정보미제공구간해당여부(Y제공불가)`  \n",
       "0                        N  \n",
       "1                        N  \n",
       "2                        N  \n",
       "3                        N  \n",
       "4                        N  \n",
       "...                    ...  \n",
       "16955                    N  \n",
       "16956                    N  \n",
       "16957                    N  \n",
       "16958                    N  \n",
       "16959                    N  \n",
       "\n",
       "[16960 rows x 6 columns]"
      ]
     },
     "execution_count": 4,
     "metadata": {},
     "output_type": "execute_result"
    }
   ],
   "source": [
    "# ''제거\n",
    "for i in income.columns:\n",
    "    income[i] = income[i].str.replace(\"`\",'')\n",
    "income"
   ]
  },
  {
   "cell_type": "code",
   "execution_count": 5,
   "id": "b5ed27cb",
   "metadata": {},
   "outputs": [
    {
     "data": {
      "text/plain": [
       "array(['N'], dtype=object)"
      ]
     },
     "execution_count": 5,
     "metadata": {},
     "output_type": "execute_result"
    }
   ],
   "source": [
    "# 정보미제공구간해당여부 없음\n",
    "income['`정보미제공구간해당여부(Y제공불가)`'].unique()"
   ]
  },
  {
   "cell_type": "code",
   "execution_count": 6,
   "id": "7b37c25b",
   "metadata": {},
   "outputs": [
    {
     "data": {
      "text/plain": [
       "array(['전체', '남성', '여성', '20대', '30대', '40대', '50대', '60세이상'],\n",
       "      dtype=object)"
      ]
     },
     "execution_count": 6,
     "metadata": {},
     "output_type": "execute_result"
    }
   ],
   "source": [
    "income['`구분`'].unique()"
   ]
  },
  {
   "cell_type": "code",
   "execution_count": 7,
   "id": "d8058b3f",
   "metadata": {},
   "outputs": [
    {
     "data": {
      "text/plain": [
       "424"
      ]
     },
     "execution_count": 7,
     "metadata": {},
     "output_type": "execute_result"
    }
   ],
   "source": [
    "len(income['`행정동코드`'].unique())# 행정동 수 424개"
   ]
  },
  {
   "cell_type": "code",
   "execution_count": 8,
   "id": "01767d12",
   "metadata": {},
   "outputs": [
    {
     "data": {
      "text/html": [
       "<div>\n",
       "<style scoped>\n",
       "    .dataframe tbody tr th:only-of-type {\n",
       "        vertical-align: middle;\n",
       "    }\n",
       "\n",
       "    .dataframe tbody tr th {\n",
       "        vertical-align: top;\n",
       "    }\n",
       "\n",
       "    .dataframe thead th {\n",
       "        text-align: right;\n",
       "    }\n",
       "</style>\n",
       "<table border=\"1\" class=\"dataframe\">\n",
       "  <thead>\n",
       "    <tr style=\"text-align: right;\">\n",
       "      <th></th>\n",
       "      <th>ADSTRD_CD_x</th>\n",
       "      <th>ADSTRD_NM</th>\n",
       "      <th>ADSTRD_CD_y</th>\n",
       "    </tr>\n",
       "  </thead>\n",
       "  <tbody>\n",
       "    <tr>\n",
       "      <th>0</th>\n",
       "      <td>1101053</td>\n",
       "      <td>사직동</td>\n",
       "      <td>11110530</td>\n",
       "    </tr>\n",
       "    <tr>\n",
       "      <th>1</th>\n",
       "      <td>1101054</td>\n",
       "      <td>삼청동</td>\n",
       "      <td>11110540</td>\n",
       "    </tr>\n",
       "    <tr>\n",
       "      <th>2</th>\n",
       "      <td>1101055</td>\n",
       "      <td>부암동</td>\n",
       "      <td>11110550</td>\n",
       "    </tr>\n",
       "    <tr>\n",
       "      <th>3</th>\n",
       "      <td>1101056</td>\n",
       "      <td>평창동</td>\n",
       "      <td>11110560</td>\n",
       "    </tr>\n",
       "    <tr>\n",
       "      <th>4</th>\n",
       "      <td>1101057</td>\n",
       "      <td>무악동</td>\n",
       "      <td>11110570</td>\n",
       "    </tr>\n",
       "    <tr>\n",
       "      <th>...</th>\n",
       "      <td>...</td>\n",
       "      <td>...</td>\n",
       "      <td>...</td>\n",
       "    </tr>\n",
       "    <tr>\n",
       "      <th>418</th>\n",
       "      <td>1125070</td>\n",
       "      <td>둔촌1동</td>\n",
       "      <td>11740690</td>\n",
       "    </tr>\n",
       "    <tr>\n",
       "      <th>419</th>\n",
       "      <td>1125071</td>\n",
       "      <td>둔촌2동</td>\n",
       "      <td>11740700</td>\n",
       "    </tr>\n",
       "    <tr>\n",
       "      <th>420</th>\n",
       "      <td>1125072</td>\n",
       "      <td>암사1동</td>\n",
       "      <td>11740570</td>\n",
       "    </tr>\n",
       "    <tr>\n",
       "      <th>421</th>\n",
       "      <td>1125073</td>\n",
       "      <td>천호2동</td>\n",
       "      <td>11740610</td>\n",
       "    </tr>\n",
       "    <tr>\n",
       "      <th>422</th>\n",
       "      <td>1125074</td>\n",
       "      <td>길동</td>\n",
       "      <td>11740685</td>\n",
       "    </tr>\n",
       "  </tbody>\n",
       "</table>\n",
       "<p>423 rows × 3 columns</p>\n",
       "</div>"
      ],
      "text/plain": [
       "     ADSTRD_CD_x ADSTRD_NM  ADSTRD_CD_y\n",
       "0        1101053       사직동     11110530\n",
       "1        1101054       삼청동     11110540\n",
       "2        1101055       부암동     11110550\n",
       "3        1101056       평창동     11110560\n",
       "4        1101057       무악동     11110570\n",
       "..           ...       ...          ...\n",
       "418      1125070      둔촌1동     11740690\n",
       "419      1125071      둔촌2동     11740700\n",
       "420      1125072      암사1동     11740570\n",
       "421      1125073      천호2동     11740610\n",
       "422      1125074        길동     11740685\n",
       "\n",
       "[423 rows x 3 columns]"
      ]
     },
     "execution_count": 8,
     "metadata": {},
     "output_type": "execute_result"
    }
   ],
   "source": [
    "dong = pd.read_csv('데이터/찐찐행정동420.csv')\n",
    "dong"
   ]
  },
  {
   "cell_type": "code",
   "execution_count": 10,
   "id": "0885fd4d",
   "metadata": {},
   "outputs": [],
   "source": [
    "# 위례동 제거\n",
    "income = income[income['`행정동코드`']!='11710647']"
   ]
  },
  {
   "cell_type": "code",
   "execution_count": 11,
   "id": "54d64971",
   "metadata": {},
   "outputs": [
    {
     "data": {
      "text/plain": [
       "423"
      ]
     },
     "execution_count": 11,
     "metadata": {},
     "output_type": "execute_result"
    }
   ],
   "source": [
    "len(income['`행정동코드`'].unique())"
   ]
  },
  {
   "cell_type": "markdown",
   "id": "5e9ce04e",
   "metadata": {},
   "source": [
    "# 데이터 타입(행정동코드) 변경"
   ]
  },
  {
   "cell_type": "code",
   "execution_count": 13,
   "id": "890a04c3",
   "metadata": {},
   "outputs": [
    {
     "name": "stderr",
     "output_type": "stream",
     "text": [
      "C:\\Users\\ASUS\\AppData\\Local\\Temp\\ipykernel_18944\\3139933477.py:1: SettingWithCopyWarning: \n",
      "A value is trying to be set on a copy of a slice from a DataFrame.\n",
      "Try using .loc[row_indexer,col_indexer] = value instead\n",
      "\n",
      "See the caveats in the documentation: https://pandas.pydata.org/pandas-docs/stable/user_guide/indexing.html#returning-a-view-versus-a-copy\n",
      "  income['`행정동코드`'] = income['`행정동코드`'].astype('int64')\n"
     ]
    }
   ],
   "source": [
    "income['`행정동코드`'] = income['`행정동코드`'].astype('int64')"
   ]
  },
  {
   "cell_type": "code",
   "execution_count": 17,
   "id": "c10dcd03",
   "metadata": {},
   "outputs": [
    {
     "data": {
      "text/plain": [
       "{11680740, 11740520}"
      ]
     },
     "execution_count": 17,
     "metadata": {},
     "output_type": "execute_result"
    }
   ],
   "source": [
    "a = set(income['`행정동코드`'].unique())\n",
    "b = set(dong['ADSTRD_CD_y'].unique())\n",
    "a-b # 일원2동, 상일동"
   ]
  },
  {
   "cell_type": "code",
   "execution_count": 27,
   "id": "5cb37d26",
   "metadata": {},
   "outputs": [
    {
     "data": {
      "text/plain": [
       "array(['사직동', '삼청동', '부암동', '평창동', '무악동', '교남동', '가회동', '종로1·2·3·4가동',\n",
       "       '종로5·6가동', '이화동', '창신1동', '창신2동', '창신3동', '숭인1동', '숭인2동', '청운효자동',\n",
       "       '혜화동', '소공동', '회현동', '명동', '필동', '장충동', '광희동', '을지로동', '신당5동',\n",
       "       '황학동', '중림동', '신당동', '다산동', '약수동', '청구동', '동화동', '후암동', '용산2가동',\n",
       "       '남영동', '원효로2동', '효창동', '용문동', '이촌1동', '이촌2동', '이태원1동', '이태원2동',\n",
       "       '서빙고동', '보광동', '청파동', '원효로1동', '한강로동', '한남동', '왕십리2동', '마장동',\n",
       "       '사근동', '행당1동', '행당2동', '응봉동', '금호1가동', '금호4가동', '성수1가1동', '성수1가2동',\n",
       "       '성수2가1동', '성수2가3동', '송정동', '용답동', '왕십리도선동', '금호2·3가동', '옥수동',\n",
       "       '화양동', '군자동', '중곡1동', '중곡2동', '중곡3동', '중곡4동', '능동', '구의1동', '구의2동',\n",
       "       '구의3동', '광장동', '자양1동', '자양2동', '자양3동', '자양4동', '회기동', '휘경1동',\n",
       "       '휘경2동', '청량리동', '용신동', '제기동', '전농1동', '전농2동', '답십리2동', '장안1동',\n",
       "       '장안2동', '이문1동', '이문2동', '답십리1동', '면목2동', '면목4동', '면목5동', '면목7동',\n",
       "       '상봉1동', '상봉2동', '중화1동', '중화2동', '묵1동', '묵2동', '망우3동', '신내1동',\n",
       "       '신내2동', '면목본동', '면목3·8동', '망우본동', '돈암1동', '돈암2동', '안암동', '보문동',\n",
       "       '정릉1동', '정릉2동', '정릉3동', '정릉4동', '길음1동', '길음2동', '월곡1동', '월곡2동',\n",
       "       '장위1동', '장위2동', '장위3동', '성북동', '삼선동', '동선동', '종암동', '석관동', '번1동',\n",
       "       '번2동', '번3동', '수유1동', '수유2동', '수유3동', '삼양동', '미아동', '송중동', '송천동',\n",
       "       '삼각산동', '우이동', '인수동', '쌍문1동', '쌍문2동', '쌍문3동', '쌍문4동', '방학1동',\n",
       "       '방학2동', '방학3동', '창1동', '창2동', '창3동', '창4동', '창5동', '도봉1동', '도봉2동',\n",
       "       '월계1동', '월계2동', '월계3동', '공릉2동', '하계1동', '하계2동', '중계본동', '중계1동',\n",
       "       '중계4동', '상계1동', '상계2동', '상계5동', '상계8동', '상계9동', '상계10동', '상계3·4동',\n",
       "       '상계6·7동', '중계2·3동', '공릉1동', '녹번동', '불광1동', '갈현1동', '갈현2동', '구산동',\n",
       "       '대조동', '응암1동', '응암2동', '신사1동', '신사2동', '증산동', '수색동', '진관동', '불광2동',\n",
       "       '응암3동', '역촌동', '천연동', '홍제1동', '홍제3동', '홍제2동', '홍은1동', '홍은2동',\n",
       "       '남가좌1동', '남가좌2동', '북가좌1동', '북가좌2동', '충현동', '북아현동', '신촌동', '연희동',\n",
       "       '용강동', '대흥동', '염리동', '신수동', '서교동', '합정동', '망원1동', '망원2동', '연남동',\n",
       "       '성산1동', '성산2동', '상암동', '도화동', '서강동', '공덕동', '아현동', '목1동', '목2동',\n",
       "       '목3동', '목4동', '신월1동', '신월2동', '신월3동', '신월4동', '신월5동', '신월6동',\n",
       "       '신월7동', '신정1동', '신정2동', '신정3동', '신정6동', '신정7동', '목5동', '신정4동',\n",
       "       '염창동', '등촌1동', '등촌2동', '등촌3동', '화곡본동', '화곡2동', '화곡3동', '화곡4동',\n",
       "       '화곡6동', '화곡8동', '가양1동', '가양2동', '가양3동', '발산1동', '공항동', '방화1동',\n",
       "       '방화2동', '방화3동', '화곡1동', '우장산동', '신도림동', '구로1동', '구로3동', '구로4동',\n",
       "       '구로5동', '고척1동', '고척2동', '개봉2동', '개봉3동', '오류1동', '오류2동', '수궁동',\n",
       "       '가리봉동', '구로2동', '개봉1동', '가산동', '독산1동', '독산2동', '독산3동', '독산4동',\n",
       "       '시흥1동', '시흥2동', '시흥3동', '시흥4동', '시흥5동', '여의동', '당산1동', '당산2동',\n",
       "       '양평1동', '양평2동', '신길1동', '신길3동', '신길4동', '신길5동', '신길6동', '신길7동',\n",
       "       '대림1동', '대림2동', '대림3동', '영등포본동', '영등포동', '도림동', '문래동', '노량진2동',\n",
       "       '상도1동', '상도2동', '상도3동', '상도4동', '사당1동', '사당3동', '사당4동', '사당5동',\n",
       "       '대방동', '신대방1동', '신대방2동', '흑석동', '노량진1동', '사당2동', '보라매동', '청림동',\n",
       "       '행운동', '낙성대동', '중앙동', '인헌동', '남현동', '서원동', '신원동', '서림동', '신사동',\n",
       "       '신림동', '난향동', '조원동', '대학동', '은천동', '성현동', '청룡동', '난곡동', '삼성동',\n",
       "       '미성동', '서초1동', '서초2동', '서초3동', '서초4동', '잠원동', '반포본동', '반포1동',\n",
       "       '반포2동', '반포3동', '반포4동', '방배본동', '방배1동', '방배2동', '방배3동', '방배4동',\n",
       "       '양재1동', '양재2동', '내곡동', '논현1동', '논현2동', '삼성1동', '삼성2동', '대치1동',\n",
       "       '대치4동', '역삼1동', '역삼2동', '도곡1동', '도곡2동', '개포1동', '개포4동', '일원본동',\n",
       "       '일원1동', '일원2동', '수서동', '세곡동', '압구정동', '청담동', '대치2동', '개포2동',\n",
       "       '풍납1동', '풍납2동', '거여1동', '거여2동', '마천1동', '마천2동', '방이1동', '방이2동',\n",
       "       '오륜동', '오금동', '송파1동', '송파2동', '석촌동', '삼전동', '가락본동', '가락1동', '가락2동',\n",
       "       '문정1동', '문정2동', '장지동', '잠실본동', '잠실4동', '잠실6동', '잠실7동', '잠실2동',\n",
       "       '잠실3동', '강일동', '상일동', '명일1동', '명일2동', '고덕1동', '고덕2동', '암사2동',\n",
       "       '암사3동', '천호1동', '천호3동', '성내1동', '성내2동', '성내3동', '둔촌1동', '둔촌2동',\n",
       "       '암사1동', '천호2동', '길동'], dtype=object)"
      ]
     },
     "execution_count": 27,
     "metadata": {},
     "output_type": "execute_result"
    }
   ],
   "source": [
    "dong['ADSTRD_NM'].unique()"
   ]
  },
  {
   "cell_type": "markdown",
   "id": "e35fcbc6",
   "metadata": {},
   "source": [
    "# 행정동 코드와 병합"
   ]
  },
  {
   "cell_type": "code",
   "execution_count": 18,
   "id": "925939b8",
   "metadata": {},
   "outputs": [
    {
     "data": {
      "text/html": [
       "<div>\n",
       "<style scoped>\n",
       "    .dataframe tbody tr th:only-of-type {\n",
       "        vertical-align: middle;\n",
       "    }\n",
       "\n",
       "    .dataframe tbody tr th {\n",
       "        vertical-align: top;\n",
       "    }\n",
       "\n",
       "    .dataframe thead th {\n",
       "        text-align: right;\n",
       "    }\n",
       "</style>\n",
       "<table border=\"1\" class=\"dataframe\">\n",
       "  <thead>\n",
       "    <tr style=\"text-align: right;\">\n",
       "      <th></th>\n",
       "      <th>`행정동코드`</th>\n",
       "      <th>`구분`</th>\n",
       "      <th>`평균소득(만원)`</th>\n",
       "      <th>`소득금액구간`</th>\n",
       "      <th>`금액구간별인원수비중(%)`</th>\n",
       "      <th>`정보미제공구간해당여부(Y제공불가)`</th>\n",
       "      <th>ADSTRD_CD_x</th>\n",
       "      <th>ADSTRD_NM</th>\n",
       "      <th>ADSTRD_CD_y</th>\n",
       "    </tr>\n",
       "  </thead>\n",
       "  <tbody>\n",
       "    <tr>\n",
       "      <th>0</th>\n",
       "      <td>11110515</td>\n",
       "      <td>전체</td>\n",
       "      <td>4344</td>\n",
       "      <td>2천만원미만</td>\n",
       "      <td>6</td>\n",
       "      <td>N</td>\n",
       "      <td>1101072</td>\n",
       "      <td>청운효자동</td>\n",
       "      <td>11110515</td>\n",
       "    </tr>\n",
       "    <tr>\n",
       "      <th>1</th>\n",
       "      <td>11110515</td>\n",
       "      <td>전체</td>\n",
       "      <td>4344</td>\n",
       "      <td>3천만원미만</td>\n",
       "      <td>18</td>\n",
       "      <td>N</td>\n",
       "      <td>1101072</td>\n",
       "      <td>청운효자동</td>\n",
       "      <td>11110515</td>\n",
       "    </tr>\n",
       "    <tr>\n",
       "      <th>2</th>\n",
       "      <td>11110515</td>\n",
       "      <td>전체</td>\n",
       "      <td>4344</td>\n",
       "      <td>4천만원미만</td>\n",
       "      <td>24</td>\n",
       "      <td>N</td>\n",
       "      <td>1101072</td>\n",
       "      <td>청운효자동</td>\n",
       "      <td>11110515</td>\n",
       "    </tr>\n",
       "    <tr>\n",
       "      <th>3</th>\n",
       "      <td>11110515</td>\n",
       "      <td>전체</td>\n",
       "      <td>4344</td>\n",
       "      <td>5천만원미만</td>\n",
       "      <td>23</td>\n",
       "      <td>N</td>\n",
       "      <td>1101072</td>\n",
       "      <td>청운효자동</td>\n",
       "      <td>11110515</td>\n",
       "    </tr>\n",
       "    <tr>\n",
       "      <th>4</th>\n",
       "      <td>11110515</td>\n",
       "      <td>전체</td>\n",
       "      <td>4344</td>\n",
       "      <td>5천만원이상</td>\n",
       "      <td>29</td>\n",
       "      <td>N</td>\n",
       "      <td>1101072</td>\n",
       "      <td>청운효자동</td>\n",
       "      <td>11110515</td>\n",
       "    </tr>\n",
       "    <tr>\n",
       "      <th>...</th>\n",
       "      <td>...</td>\n",
       "      <td>...</td>\n",
       "      <td>...</td>\n",
       "      <td>...</td>\n",
       "      <td>...</td>\n",
       "      <td>...</td>\n",
       "      <td>...</td>\n",
       "      <td>...</td>\n",
       "      <td>...</td>\n",
       "    </tr>\n",
       "    <tr>\n",
       "      <th>16915</th>\n",
       "      <td>11740700</td>\n",
       "      <td>60세이상</td>\n",
       "      <td>4129</td>\n",
       "      <td>2천만원미만</td>\n",
       "      <td>7</td>\n",
       "      <td>N</td>\n",
       "      <td>1125071</td>\n",
       "      <td>둔촌2동</td>\n",
       "      <td>11740700</td>\n",
       "    </tr>\n",
       "    <tr>\n",
       "      <th>16916</th>\n",
       "      <td>11740700</td>\n",
       "      <td>60세이상</td>\n",
       "      <td>4129</td>\n",
       "      <td>3천만원미만</td>\n",
       "      <td>20</td>\n",
       "      <td>N</td>\n",
       "      <td>1125071</td>\n",
       "      <td>둔촌2동</td>\n",
       "      <td>11740700</td>\n",
       "    </tr>\n",
       "    <tr>\n",
       "      <th>16917</th>\n",
       "      <td>11740700</td>\n",
       "      <td>60세이상</td>\n",
       "      <td>4129</td>\n",
       "      <td>4천만원미만</td>\n",
       "      <td>24</td>\n",
       "      <td>N</td>\n",
       "      <td>1125071</td>\n",
       "      <td>둔촌2동</td>\n",
       "      <td>11740700</td>\n",
       "    </tr>\n",
       "    <tr>\n",
       "      <th>16918</th>\n",
       "      <td>11740700</td>\n",
       "      <td>60세이상</td>\n",
       "      <td>4129</td>\n",
       "      <td>5천만원미만</td>\n",
       "      <td>21</td>\n",
       "      <td>N</td>\n",
       "      <td>1125071</td>\n",
       "      <td>둔촌2동</td>\n",
       "      <td>11740700</td>\n",
       "    </tr>\n",
       "    <tr>\n",
       "      <th>16919</th>\n",
       "      <td>11740700</td>\n",
       "      <td>60세이상</td>\n",
       "      <td>4129</td>\n",
       "      <td>5천만원이상</td>\n",
       "      <td>28</td>\n",
       "      <td>N</td>\n",
       "      <td>1125071</td>\n",
       "      <td>둔촌2동</td>\n",
       "      <td>11740700</td>\n",
       "    </tr>\n",
       "  </tbody>\n",
       "</table>\n",
       "<p>16920 rows × 9 columns</p>\n",
       "</div>"
      ],
      "text/plain": [
       "        `행정동코드`   `구분` `평균소득(만원)` `소득금액구간` `금액구간별인원수비중(%)`  \\\n",
       "0      11110515     전체       4344   2천만원미만               6   \n",
       "1      11110515     전체       4344   3천만원미만              18   \n",
       "2      11110515     전체       4344   4천만원미만              24   \n",
       "3      11110515     전체       4344   5천만원미만              23   \n",
       "4      11110515     전체       4344   5천만원이상              29   \n",
       "...         ...    ...        ...      ...             ...   \n",
       "16915  11740700  60세이상       4129   2천만원미만               7   \n",
       "16916  11740700  60세이상       4129   3천만원미만              20   \n",
       "16917  11740700  60세이상       4129   4천만원미만              24   \n",
       "16918  11740700  60세이상       4129   5천만원미만              21   \n",
       "16919  11740700  60세이상       4129   5천만원이상              28   \n",
       "\n",
       "      `정보미제공구간해당여부(Y제공불가)`  ADSTRD_CD_x ADSTRD_NM  ADSTRD_CD_y  \n",
       "0                        N      1101072     청운효자동     11110515  \n",
       "1                        N      1101072     청운효자동     11110515  \n",
       "2                        N      1101072     청운효자동     11110515  \n",
       "3                        N      1101072     청운효자동     11110515  \n",
       "4                        N      1101072     청운효자동     11110515  \n",
       "...                    ...          ...       ...          ...  \n",
       "16915                    N      1125071      둔촌2동     11740700  \n",
       "16916                    N      1125071      둔촌2동     11740700  \n",
       "16917                    N      1125071      둔촌2동     11740700  \n",
       "16918                    N      1125071      둔촌2동     11740700  \n",
       "16919                    N      1125071      둔촌2동     11740700  \n",
       "\n",
       "[16920 rows x 9 columns]"
      ]
     },
     "execution_count": 18,
     "metadata": {},
     "output_type": "execute_result"
    }
   ],
   "source": [
    "# 일원2동, 상일동 제거\n",
    "income_dong = pd.merge(income,dong,how='inner',left_on='`행정동코드`',right_on='ADSTRD_CD_y')\n",
    "income_dong"
   ]
  },
  {
   "cell_type": "code",
   "execution_count": 19,
   "id": "4edb2ac4",
   "metadata": {},
   "outputs": [
    {
     "data": {
      "text/plain": [
       "`행정동코드`                 0\n",
       "`구분`                    0\n",
       "`평균소득(만원)`              0\n",
       "`소득금액구간`                0\n",
       "`금액구간별인원수비중(%)`         0\n",
       "`정보미제공구간해당여부(Y제공불가)`    0\n",
       "ADSTRD_CD_x             0\n",
       "ADSTRD_NM               0\n",
       "ADSTRD_CD_y             0\n",
       "dtype: int64"
      ]
     },
     "execution_count": 19,
     "metadata": {},
     "output_type": "execute_result"
    }
   ],
   "source": [
    "income_dong.isnull().sum()"
   ]
  },
  {
   "cell_type": "code",
   "execution_count": 20,
   "id": "8f86db78",
   "metadata": {},
   "outputs": [
    {
     "data": {
      "text/plain": [
       "set()"
      ]
     },
     "execution_count": 20,
     "metadata": {},
     "output_type": "execute_result"
    }
   ],
   "source": [
    "a = set(income_dong['`행정동코드`'].unique())\n",
    "b = set(income_dong['ADSTRD_CD_y'].unique())\n",
    "a^b"
   ]
  },
  {
   "cell_type": "code",
   "execution_count": 24,
   "id": "6d966945",
   "metadata": {},
   "outputs": [
    {
     "data": {
      "text/plain": [
       "421"
      ]
     },
     "execution_count": 24,
     "metadata": {},
     "output_type": "execute_result"
    }
   ],
   "source": [
    "len(income_dong['ADSTRD_CD_y'].unique())"
   ]
  },
  {
   "cell_type": "code",
   "execution_count": 25,
   "id": "7b52908c",
   "metadata": {},
   "outputs": [],
   "source": [
    "income_dong.to_csv('데이터/소득수준.csv',index=False)"
   ]
  }
 ],
 "metadata": {
  "kernelspec": {
   "display_name": "Python 3 (ipykernel)",
   "language": "python",
   "name": "python3"
  },
  "language_info": {
   "codemirror_mode": {
    "name": "ipython",
    "version": 3
   },
   "file_extension": ".py",
   "mimetype": "text/x-python",
   "name": "python",
   "nbconvert_exporter": "python",
   "pygments_lexer": "ipython3",
   "version": "3.11.3"
  }
 },
 "nbformat": 4,
 "nbformat_minor": 5
}
